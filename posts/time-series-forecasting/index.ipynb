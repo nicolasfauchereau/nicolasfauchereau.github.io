{
 "cells": [
  {
   "cell_type": "markdown",
   "id": "a58f3029-8416-43e1-b551-d27d6db3cc07",
   "metadata": {},
   "source": [
    "Time series forecasting with [fbprophet](https://facebook.github.io/prophet/)"
   ]
  },
  {
   "cell_type": "code",
   "execution_count": 3,
   "id": "eed3f0f0-7932-4835-a898-19f8000006b3",
   "metadata": {},
   "outputs": [],
   "source": [
    "%matplotlib inline"
   ]
  },
  {
   "cell_type": "code",
   "execution_count": 4,
   "id": "b225ca40-de2f-48b6-b18b-10fa0cf14867",
   "metadata": {},
   "outputs": [],
   "source": [
    "import fbprophet"
   ]
  }
 ],
 "metadata": {
  "kernelspec": {
   "display_name": "Python 3 (ipykernel)",
   "language": "python",
   "name": "python3"
  },
  "language_info": {
   "codemirror_mode": {
    "name": "ipython",
    "version": 3
   },
   "file_extension": ".py",
   "mimetype": "text/x-python",
   "name": "python",
   "nbconvert_exporter": "python",
   "pygments_lexer": "ipython3",
   "version": "3.7.12"
  },
  "nikola": {
   "category": "",
   "date": "2022-03-07 20:42:30 UTC+13:00",
   "description": "",
   "link": "",
   "slug": "time-series-forecasting",
   "tags": "Time-series,Prophet",
   "title": "Time-series forecasting",
   "type": "text"
  }
 },
 "nbformat": 4,
 "nbformat_minor": 5
}
